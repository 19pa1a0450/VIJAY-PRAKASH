{
  "nbformat": 4,
  "nbformat_minor": 0,
  "metadata": {
    "colab": {
      "name": "vijay.ipynb",
      "provenance": [],
      "authorship_tag": "ABX9TyMD57Ku7ZV/z98rQsC8uK7Q",
      "include_colab_link": true
    },
    "kernelspec": {
      "name": "python3",
      "display_name": "Python 3"
    }
  },
  "cells": [
    {
      "cell_type": "markdown",
      "metadata": {
        "id": "view-in-github",
        "colab_type": "text"
      },
      "source": [
        "<a href=\"https://colab.research.google.com/github/19pa1a0450/VIJAY-PRAKASH/blob/master/vijay.ipynb\" target=\"_parent\"><img src=\"https://colab.research.google.com/assets/colab-badge.svg\" alt=\"Open In Colab\"/></a>"
      ]
    },
    {
      "cell_type": "code",
      "metadata": {
        "id": "hDdy5MgUkukp",
        "colab_type": "code",
        "colab": {
          "base_uri": "https://localhost:8080/",
          "height": 34
        },
        "outputId": "e9a36da5-7105-4d01-fe47-2abe8c5f6b00"
      },
      "source": [
        "a=10\n",
        "b=13\n",
        "if(a>b):\n",
        "  print(a,\"is the largest number\")\n",
        "else:\n",
        "  print(b,\"is the largest number\")\n",
        "    "
      ],
      "execution_count": 1,
      "outputs": [
        {
          "output_type": "stream",
          "text": [
            "13 is the largest number\n"
          ],
          "name": "stdout"
        }
      ]
    },
    {
      "cell_type": "code",
      "metadata": {
        "id": "9Sjl1sBbl8Le",
        "colab_type": "code",
        "colab": {
          "base_uri": "https://localhost:8080/",
          "height": 204
        },
        "outputId": "8329e187-9a67-48e6-a487-7e0983fc773c"
      },
      "source": [
        "r=int(input(\"enter the positive range\"))\n",
        "for i in range (1,r+1):\n",
        "  if (i%2==0):\n",
        "    print(i,\"is a even number\")\n",
        "  else:\n",
        "    print(i,\"is a odd number\")  \n",
        "\n",
        "  \n"
      ],
      "execution_count": 4,
      "outputs": [
        {
          "output_type": "stream",
          "text": [
            "enter the positive range10\n",
            "1 is a odd number\n",
            "2 is a even number\n",
            "3 is a odd number\n",
            "4 is a even number\n",
            "5 is a odd number\n",
            "6 is a even number\n",
            "7 is a odd number\n",
            "8 is a even number\n",
            "9 is a odd number\n",
            "10 is a even number\n"
          ],
          "name": "stdout"
        }
      ]
    },
    {
      "cell_type": "code",
      "metadata": {
        "id": "1n6LngFqlt0P",
        "colab_type": "code",
        "colab": {}
      },
      "source": [
        ""
      ],
      "execution_count": 0,
      "outputs": []
    }
  ]
}