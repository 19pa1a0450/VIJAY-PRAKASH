{
  "nbformat": 4,
  "nbformat_minor": 0,
  "metadata": {
    "colab": {
      "name": "Untitled2.ipynb",
      "provenance": [],
      "authorship_tag": "ABX9TyOiIzWBCRcfJVAnCRz/u0ag",
      "include_colab_link": true
    },
    "kernelspec": {
      "name": "python3",
      "display_name": "Python 3"
    }
  },
  "cells": [
    {
      "cell_type": "markdown",
      "metadata": {
        "id": "view-in-github",
        "colab_type": "text"
      },
      "source": [
        "<a href=\"https://colab.research.google.com/github/19pa1a0450/VIJAY-PRAKASH/blob/master/Untitled2.ipynb\" target=\"_parent\"><img src=\"https://colab.research.google.com/assets/colab-badge.svg\" alt=\"Open In Colab\"/></a>"
      ]
    },
    {
      "cell_type": "code",
      "metadata": {
        "id": "9CXmztEw-oNB",
        "colab_type": "code",
        "colab": {
          "base_uri": "https://localhost:8080/",
          "height": 255
        },
        "outputId": "54cc02d6-a774-41e5-e671-b986c1e651a1"
      },
      "source": [
        "import pandas as pd\n",
        "g=pd.read_csv(\"SolarPrediction.csv.zip\")\n",
        "print(g)"
      ],
      "execution_count": 11,
      "outputs": [
        {
          "output_type": "stream",
          "text": [
            "         UNIXTime                   Data  ... TimeSunRise  TimeSunSet\n",
            "0      1475229326  9/29/2016 12:00:00 AM  ...    06:13:00    18:13:00\n",
            "1      1475229023  9/29/2016 12:00:00 AM  ...    06:13:00    18:13:00\n",
            "2      1475228726  9/29/2016 12:00:00 AM  ...    06:13:00    18:13:00\n",
            "3      1475228421  9/29/2016 12:00:00 AM  ...    06:13:00    18:13:00\n",
            "4      1475228124  9/29/2016 12:00:00 AM  ...    06:13:00    18:13:00\n",
            "...           ...                    ...  ...         ...         ...\n",
            "32681  1480587604  12/1/2016 12:00:00 AM  ...    06:41:00    17:42:00\n",
            "32682  1480587301  12/1/2016 12:00:00 AM  ...    06:41:00    17:42:00\n",
            "32683  1480587001  12/1/2016 12:00:00 AM  ...    06:41:00    17:42:00\n",
            "32684  1480586702  12/1/2016 12:00:00 AM  ...    06:41:00    17:42:00\n",
            "32685  1480586402  12/1/2016 12:00:00 AM  ...    06:41:00    17:42:00\n",
            "\n",
            "[32686 rows x 11 columns]\n"
          ],
          "name": "stdout"
        }
      ]
    },
    {
      "cell_type": "code",
      "metadata": {
        "id": "ltZXROm7AF0b",
        "colab_type": "code",
        "colab": {
          "base_uri": "https://localhost:8080/",
          "height": 134
        },
        "outputId": "b8910c77-3262-4de0-c530-79edbd8bad4e"
      },
      "source": [
        "g.head(1)"
      ],
      "execution_count": 13,
      "outputs": [
        {
          "output_type": "execute_result",
          "data": {
            "text/html": [
              "<div>\n",
              "<style scoped>\n",
              "    .dataframe tbody tr th:only-of-type {\n",
              "        vertical-align: middle;\n",
              "    }\n",
              "\n",
              "    .dataframe tbody tr th {\n",
              "        vertical-align: top;\n",
              "    }\n",
              "\n",
              "    .dataframe thead th {\n",
              "        text-align: right;\n",
              "    }\n",
              "</style>\n",
              "<table border=\"1\" class=\"dataframe\">\n",
              "  <thead>\n",
              "    <tr style=\"text-align: right;\">\n",
              "      <th></th>\n",
              "      <th>UNIXTime</th>\n",
              "      <th>Data</th>\n",
              "      <th>Time</th>\n",
              "      <th>Radiation</th>\n",
              "      <th>Temperature</th>\n",
              "      <th>Pressure</th>\n",
              "      <th>Humidity</th>\n",
              "      <th>WindDirection(Degrees)</th>\n",
              "      <th>Speed</th>\n",
              "      <th>TimeSunRise</th>\n",
              "      <th>TimeSunSet</th>\n",
              "    </tr>\n",
              "  </thead>\n",
              "  <tbody>\n",
              "    <tr>\n",
              "      <th>0</th>\n",
              "      <td>1475229326</td>\n",
              "      <td>9/29/2016 12:00:00 AM</td>\n",
              "      <td>23:55:26</td>\n",
              "      <td>1.21</td>\n",
              "      <td>48</td>\n",
              "      <td>30.46</td>\n",
              "      <td>59</td>\n",
              "      <td>177.39</td>\n",
              "      <td>5.62</td>\n",
              "      <td>06:13:00</td>\n",
              "      <td>18:13:00</td>\n",
              "    </tr>\n",
              "  </tbody>\n",
              "</table>\n",
              "</div>"
            ],
            "text/plain": [
              "     UNIXTime                   Data      Time  ...  Speed  TimeSunRise  TimeSunSet\n",
              "0  1475229326  9/29/2016 12:00:00 AM  23:55:26  ...   5.62     06:13:00    18:13:00\n",
              "\n",
              "[1 rows x 11 columns]"
            ]
          },
          "metadata": {
            "tags": []
          },
          "execution_count": 13
        }
      ]
    },
    {
      "cell_type": "code",
      "metadata": {
        "id": "zNeFmQSLBWVe",
        "colab_type": "code",
        "colab": {}
      },
      "source": [
        ""
      ],
      "execution_count": 0,
      "outputs": []
    },
    {
      "cell_type": "markdown",
      "metadata": {
        "id": "cdMi5lBLBY7Y",
        "colab_type": "text"
      },
      "source": [
        ""
      ]
    },
    {
      "cell_type": "markdown",
      "metadata": {
        "id": "V5gatoknBZAP",
        "colab_type": "text"
      },
      "source": [
        "**UNIXTime**:  Unix time (also known as Epoch time, POSIX time,[1] seconds since the Epoch,[2] or UNIX Epoch time[3]) is a system for describing a point in time. It is the number of seconds that have elapsed since the Unix epoch, that is the time 00:00:00 UTC on 1 January 1970, minus leap seconds. Leap seconds are ignored,[4] with a leap second having the same Unix time as the second before it, and every day is treated as if it contains exactly 86400 seconds.\n",
        "**Data**:   date  \n",
        "\n",
        "**Time** : point of time  \n",
        "\n",
        "**Radiation** :  Radiation from the Sun, is a mixture of electromagnetic waves ranging from infrared (IR) to ultraviolet rays (UV).  \n",
        "\n",
        "**Temparature** : Temperature is a physical property of matter that quantitatively expresses hot and cold.\n",
        "\n",
        "**Pressure** : Pressure is defined as the physical force exerted on an object. The force applied is perpendicular to the surface of objects per unit area.  \n",
        "\n",
        "**Humidity** : Humidity is the concentration of water vapour present in the air.\n",
        "\n",
        "\n",
        "**WindDirection(Degrees)**: Wind direction is reported by the direction from which it originates.\n",
        "\n",
        "**Speed**: wind speed  \n",
        "\n",
        "**TimeSunRise** : time of sun rise  \n",
        "\n",
        "**TimeSunSet** : time of sunset \n"
      ]
    },
    {
      "cell_type": "code",
      "metadata": {
        "id": "i3ItbohgGOKP",
        "colab_type": "code",
        "colab": {}
      },
      "source": [
        "import pandas as pd\n"
      ],
      "execution_count": 0,
      "outputs": []
    }
  ]
}